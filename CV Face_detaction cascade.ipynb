{
 "cells": [
  {
   "cell_type": "code",
   "execution_count": 1,
   "id": "806ba658",
   "metadata": {},
   "outputs": [],
   "source": [
    "import cv2\n",
    "import numpy\n",
    "face=cv2.CascadeClassifier(\"haarcascade_frontalface_default (5).xml\")\n",
    "eye = cv2.CascadeClassifier('haarcascade_eye.xml') #for detecting eyes\n",
    "def dector(img):\n",
    "    gray= cv2.cvtColor(img,cv2.COLOR_BGR2GRAY)\n",
    "    faces = face.detectMultiScale(gray,1.3,5)\n",
    "    \n",
    "    for(x,y,w,h) in faces:\n",
    "        cv2.rectangle(img,(x,y),(x+w,y+h),(127,0,125),3)\n",
    "        \n",
    "        roi_gray = gray[y:y+h, x:x+w]\n",
    "        \n",
    "        roi_color = img[y:y+h, x:x+w]\n",
    "        \n",
    "        eyes = eye.detectMultiScale(roi_gray,1.3,3)\n",
    "        for (ex,ey,ew,eh) in eyes:\n",
    "            cv2.circle(roi_color,(ex+27,ey+27),20,(255,255,0),2)\n",
    "\n",
    "    return img\n",
    "\n",
    "cap = cv2.VideoCapture(0,cv2.CAP_DSHOW)\n",
    "while True:\n",
    "    ret,frame =cap.read()\n",
    "    frame = cv2.flip(frame,2)\n",
    "    cv2.imshow(\"face dect\",dector(frame))\n",
    "    if cv2.waitKey(1)==13:   # press enter to terminate\n",
    "        break\n",
    "    \n",
    "cap.release()\n",
    "cv2.destroyAllWindows()  "
   ]
  },
  {
   "cell_type": "code",
   "execution_count": null,
   "id": "e5fb2996",
   "metadata": {},
   "outputs": [],
   "source": []
  }
 ],
 "metadata": {
  "kernelspec": {
   "display_name": "Python 3 (ipykernel)",
   "language": "python",
   "name": "python3"
  },
  "language_info": {
   "codemirror_mode": {
    "name": "ipython",
    "version": 3
   },
   "file_extension": ".py",
   "mimetype": "text/x-python",
   "name": "python",
   "nbconvert_exporter": "python",
   "pygments_lexer": "ipython3",
   "version": "3.11.3"
  }
 },
 "nbformat": 4,
 "nbformat_minor": 5
}
